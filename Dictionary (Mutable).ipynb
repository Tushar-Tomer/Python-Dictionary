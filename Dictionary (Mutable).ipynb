{
 "cells": [
  {
   "cell_type": "markdown",
   "id": "ec6587a0",
   "metadata": {},
   "source": [
    "# Dictionaries"
   ]
  },
  {
   "cell_type": "markdown",
   "id": "79f8d625",
   "metadata": {},
   "source": [
    "- What is Dictionary?\n",
    "\n",
    "Dictionary is a non-homogeneous data structure which stores key value pairs. Use {} curly brackets to construct the dictionary, and [] square brackets to index it. Separate the key and value with colons: and with commas, between each pair. Dictionaries are mutable, which means they can be changed. "
   ]
  },
  {
   "cell_type": "markdown",
   "id": "82495615",
   "metadata": {},
   "source": [
    "### Creating a Dictionary"
   ]
  },
  {
   "cell_type": "markdown",
   "id": "388c9335",
   "metadata": {},
   "source": [
    "In Python, a Dictionary can be created by placing a sequence of elements within curly {} braces, separated by ‘comma’. Dictionary holds pairs of values, one being the Key and the other corresponding pair element being its Key:value. Values in a dictionary can be of any data type and can be duplicated, whereas keys can’t be repeated and must be immutable. \n",
    "\n",
    "Note – Dictionary keys are case sensitive, the same name but different cases of Key will be treated distinctly. "
   ]
  },
  {
   "cell_type": "code",
   "execution_count": 1,
   "id": "632d5fae",
   "metadata": {},
   "outputs": [
    {
     "name": "stdout",
     "output_type": "stream",
     "text": [
      "{0: 'One', 'Two': 2, 3: 'Three', 'Four': 4}\n"
     ]
    }
   ],
   "source": [
    "d={0:'One','Two' :2, 3:\"Three\",'Four':4}\n",
    "print(d)"
   ]
  },
  {
   "cell_type": "code",
   "execution_count": null,
   "id": "81849c64",
   "metadata": {},
   "outputs": [],
   "source": []
  },
  {
   "cell_type": "code",
   "execution_count": 4,
   "id": "4b226d61",
   "metadata": {},
   "outputs": [
    {
     "name": "stdout",
     "output_type": "stream",
     "text": [
      "4 {'name': 'Deepansju', 'Age': 55, 'height': 34.2, 7: 'seven'}\n"
     ]
    }
   ],
   "source": [
    "D={'name':'Deepansju','Age':100,'Age':55,\"height\":34.2,7:'seven'}\n",
    "print(len(D),D)\n"
   ]
  },
  {
   "cell_type": "markdown",
   "id": "14dda734",
   "metadata": {},
   "source": [
    "# mutable\n",
    "# list\n",
    "# dict\n",
    "# set"
   ]
  },
  {
   "cell_type": "code",
   "execution_count": 2,
   "id": "6dc02f39",
   "metadata": {},
   "outputs": [
    {
     "name": "stdout",
     "output_type": "stream",
     "text": [
      "<class 'dict'>\n",
      "{'Fruits': ['apple', 'mango'], 'Vegetable': ['potato', 'tomato']}\n"
     ]
    }
   ],
   "source": [
    "DD={'Fruits':['apple','mango'],'Vegetable':['potato','tomato']}\n",
    "print(type(DD))\n",
    "# print(len(DD))\n",
    "print(DD)"
   ]
  },
  {
   "cell_type": "code",
   "execution_count": 1,
   "id": "8c89f38f",
   "metadata": {},
   "outputs": [],
   "source": [
    "D={0:0,1:1,2:2,7:0,1:2,0:1}"
   ]
  },
  {
   "cell_type": "code",
   "execution_count": 6,
   "id": "02258ba2",
   "metadata": {},
   "outputs": [
    {
     "name": "stdout",
     "output_type": "stream",
     "text": [
      "4\n",
      "{0: 1, 1: 2, 2: 2, 7: 0}\n"
     ]
    }
   ],
   "source": [
    "print(len(D))\n",
    "print(D)"
   ]
  },
  {
   "cell_type": "code",
   "execution_count": 2,
   "id": "86585914",
   "metadata": {},
   "outputs": [
    {
     "ename": "TypeError",
     "evalue": "unsupported operand type(s) for +: 'dict' and 'dict'",
     "output_type": "error",
     "traceback": [
      "\u001b[1;31m---------------------------------------------------------------------------\u001b[0m",
      "\u001b[1;31mTypeError\u001b[0m                                 Traceback (most recent call last)",
      "Input \u001b[1;32mIn [2]\u001b[0m, in \u001b[0;36m<cell line: 3>\u001b[1;34m()\u001b[0m\n\u001b[0;32m      1\u001b[0m d\u001b[38;5;241m=\u001b[39m{\u001b[38;5;241m0\u001b[39m:\u001b[38;5;124m'\u001b[39m\u001b[38;5;124mOne\u001b[39m\u001b[38;5;124m'\u001b[39m,\u001b[38;5;124m'\u001b[39m\u001b[38;5;124mTwo\u001b[39m\u001b[38;5;124m'\u001b[39m :\u001b[38;5;241m2\u001b[39m, \u001b[38;5;241m3\u001b[39m:\u001b[38;5;124m\"\u001b[39m\u001b[38;5;124mThree\u001b[39m\u001b[38;5;124m\"\u001b[39m,\u001b[38;5;124m'\u001b[39m\u001b[38;5;124mFour\u001b[39m\u001b[38;5;124m'\u001b[39m:\u001b[38;5;241m4\u001b[39m}\n\u001b[0;32m      2\u001b[0m D\u001b[38;5;241m=\u001b[39m{\u001b[38;5;241m0\u001b[39m:\u001b[38;5;241m0\u001b[39m,\u001b[38;5;241m1\u001b[39m:\u001b[38;5;241m1\u001b[39m,\u001b[38;5;241m2\u001b[39m:\u001b[38;5;241m2\u001b[39m,\u001b[38;5;241m7\u001b[39m:\u001b[38;5;241m0\u001b[39m,\u001b[38;5;241m1\u001b[39m:\u001b[38;5;241m2\u001b[39m,\u001b[38;5;241m0\u001b[39m:\u001b[38;5;241m1\u001b[39m}\n\u001b[1;32m----> 3\u001b[0m \u001b[38;5;28mprint\u001b[39m(\u001b[43md\u001b[49m\u001b[38;5;241;43m+\u001b[39;49m\u001b[43mD\u001b[49m)\n",
      "\u001b[1;31mTypeError\u001b[0m: unsupported operand type(s) for +: 'dict' and 'dict'"
     ]
    }
   ],
   "source": [
    "d={0:'One','Two' :2, 3:\"Three\",'Four':4}# Dictionary is not merge two variables\n",
    "D={0:0,1:1,2:2,7:0,1:2,0:1}\n",
    "print(d+D)"
   ]
  },
  {
   "cell_type": "code",
   "execution_count": 7,
   "id": "6211e7d3",
   "metadata": {},
   "outputs": [
    {
     "data": {
      "text/plain": [
       "{0: 1, 'Two': 2, 3: 'Three', 'Four': 4, 1: 2, 2: 2, 7: 0}"
      ]
     },
     "execution_count": 7,
     "metadata": {},
     "output_type": "execute_result"
    }
   ],
   "source": [
    "d={0:'One','Two' :2, 3:\"Three\",'Four':4}# Dictionary can update two variables\n",
    "D={0:0,1:1,2:2,7:0,1:2,0:1}\n",
    "d.update(D)\n",
    "d"
   ]
  },
  {
   "cell_type": "code",
   "execution_count": 6,
   "id": "f1011f08",
   "metadata": {},
   "outputs": [
    {
     "name": "stdout",
     "output_type": "stream",
     "text": [
      "{'Name': 'Python', 1: [1, 2, 3, 4]}\n",
      "2\n"
     ]
    }
   ],
   "source": [
    "# Creating a Dictionary with Mixed keys\n",
    "Dict = {'Name': 'Python', 1: [1, 2, 3, 4]}\n",
    "print(Dict)\n",
    "print(len(Dict))"
   ]
  },
  {
   "cell_type": "code",
   "execution_count": null,
   "id": "319430d5",
   "metadata": {},
   "outputs": [],
   "source": [
    "list(1,2,4,45)"
   ]
  },
  {
   "cell_type": "code",
   "execution_count": 8,
   "id": "53f590af",
   "metadata": {},
   "outputs": [
    {
     "name": "stdout",
     "output_type": "stream",
     "text": [
      "{1: 'Python', 2: 'Core'}\n"
     ]
    }
   ],
   "source": [
    "# Creating an empty Dictionary\n",
    "Dictionary = {}\n",
    "# print(Dictionary)\n",
    " \n",
    "# Creating a Dictionary with dict() method\n",
    "# dictionary = {1: 'Hello', 2: 'From', 3:'The', 4:'Other', 5:'Side'}\n",
    "# print(dictionary)\n",
    " \n",
    "# Creating a Dictionary with each item as a Pair\n",
    "DICTIONARY = dict([(1, 'Python'), (2, 'Core')])\n",
    "print(DICTIONARY)"
   ]
  },
  {
   "cell_type": "code",
   "execution_count": 8,
   "id": "23f8de2a",
   "metadata": {},
   "outputs": [
    {
     "name": "stdout",
     "output_type": "stream",
     "text": [
      "{1: 2, 4: 8}\n"
     ]
    }
   ],
   "source": [
    "a=dict([(1,2),(4,8)])\n",
    "print(a)"
   ]
  },
  {
   "cell_type": "code",
   "execution_count": 12,
   "id": "b10eeef5",
   "metadata": {},
   "outputs": [
    {
     "data": {
      "text/plain": [
       "{1: 2}"
      ]
     },
     "execution_count": 12,
     "metadata": {},
     "output_type": "execute_result"
    }
   ],
   "source": [
    "a=dict([(1,2)])\n",
    "a"
   ]
  },
  {
   "cell_type": "code",
   "execution_count": 11,
   "id": "4c8d90d1",
   "metadata": {},
   "outputs": [
    {
     "name": "stdout",
     "output_type": "stream",
     "text": [
      "{0: 'a', 1: 'quick', 2: 'brown', 3: 'fox', 4: 'jumps', 5: 'over', 6: 'a', 7: 'lazy', 8: 'dog'}\n"
     ]
    }
   ],
   "source": [
    "di={0:'a', 1:'quick', 2:'brown', 3:'fox', 4:'jumps', 5:'over', 6:'a', 7:'lazy', 8:'dog'}\n",
    "print(di)"
   ]
  },
  {
   "cell_type": "code",
   "execution_count": 44,
   "id": "5e2f5609",
   "metadata": {},
   "outputs": [
    {
     "name": "stdout",
     "output_type": "stream",
     "text": [
      "dict_items([(0, 'a'), (1, 'quick'), (2, 'brown'), (3, 'fox'), (4, 'jumps'), (5, 'over'), (6, 'a'), (7, 'lazy'), (8, 'dog')])\n"
     ]
    }
   ],
   "source": [
    "print(di.items())"
   ]
  },
  {
   "cell_type": "code",
   "execution_count": 9,
   "id": "76732ab2",
   "metadata": {},
   "outputs": [
    {
     "name": "stdout",
     "output_type": "stream",
     "text": [
      "9\n"
     ]
    }
   ],
   "source": [
    "print(len(di))"
   ]
  },
  {
   "cell_type": "code",
   "execution_count": 6,
   "id": "2a2e0c66",
   "metadata": {},
   "outputs": [
    {
     "name": "stdout",
     "output_type": "stream",
     "text": [
      "{0: 'a', 1: 'quick', 2: 'brown', 3: 'fox', 4: 'jumps', 5: 'over', 6: 'a', 7: 'lazy', 8: 'dog'}\n",
      "dict_items([(0, 'a'), (1, 'quick'), (2, 'brown'), (3, 'fox'), (4, 'jumps'), (5, 'over'), (6, 'a'), (7, 'lazy'), (8, 'dog')])\n",
      "(0, 'a')\n",
      "(1, 'quick')\n",
      "(2, 'brown')\n",
      "(3, 'fox')\n",
      "(4, 'jumps')\n",
      "(5, 'over')\n",
      "(6, 'a')\n",
      "(7, 'lazy')\n",
      "(8, 'dog')\n"
     ]
    }
   ],
   "source": [
    "di={0:'a', 1:'quick', 2:'brown', 3:'fox', 4:'jumps', 5:'over', 6:'a', 7:'lazy', 8:'dog'}\n",
    "print(di)\n",
    "a=di.items()\n",
    "print(a)\n",
    "for i in a:\n",
    "    print(i)"
   ]
  },
  {
   "cell_type": "code",
   "execution_count": 17,
   "id": "2c06eec7",
   "metadata": {},
   "outputs": [
    {
     "name": "stdout",
     "output_type": "stream",
     "text": [
      "{0: 'a', 1: 'quick', 2: 'brown', 3: 'fox', 4: 'jumps', 5: 'over', 6: 'a', 7: 'lazy', 8: 'dog'}\n",
      "dict_items([(0, 'a'), (1, 'quick'), (2, 'brown'), (3, 'fox'), (4, 'jumps'), (5, 'over'), (6, 'a'), (7, 'lazy'), (8, 'dog')])\n",
      "jumps\n"
     ]
    }
   ],
   "source": [
    "di={0:'a', 1:'quick', 2:'brown', 3:'fox', 4:'jumps', 5:'over', 6:'a', 7:'lazy', 8:'dog'}\n",
    "print(di)\n",
    "a=di.items()\n",
    "print(a)\n",
    "print(di[4])"
   ]
  },
  {
   "cell_type": "code",
   "execution_count": 27,
   "id": "56c21b78",
   "metadata": {},
   "outputs": [
    {
     "name": "stdout",
     "output_type": "stream",
     "text": [
      "fox\n",
      "lazy\n",
      "brown\n",
      "dog\n"
     ]
    }
   ],
   "source": [
    "#  for accesing values we have to pass key\n",
    "# print(di[100])\n",
    "print(di[3])\n",
    "print(di[7])\n",
    "print(di[2])\n",
    "print(di[8])"
   ]
  },
  {
   "cell_type": "code",
   "execution_count": 11,
   "id": "64bb73f8",
   "metadata": {},
   "outputs": [
    {
     "name": "stdout",
     "output_type": "stream",
     "text": [
      "{0: 1, 1: 2, 2: 2, 7: 0}\n"
     ]
    }
   ],
   "source": [
    "print(D)"
   ]
  },
  {
   "cell_type": "code",
   "execution_count": 12,
   "id": "f2f7a33b",
   "metadata": {},
   "outputs": [
    {
     "name": "stdout",
     "output_type": "stream",
     "text": [
      "1\n",
      "2\n",
      "2\n"
     ]
    }
   ],
   "source": [
    "print(D[0])\n",
    "print(D[1])\n",
    "print(D[2])"
   ]
  },
  {
   "cell_type": "code",
   "execution_count": 19,
   "id": "418cb542",
   "metadata": {},
   "outputs": [
    {
     "name": "stdout",
     "output_type": "stream",
     "text": [
      "{1: 'a', 2: 'd', 3: 'c', 4: 'd'}\n",
      "dict_keys([1, 2, 3, 4])\n",
      "dict_values(['a', 'd', 'c', 'd'])\n",
      "dict_items([(1, 'a'), (2, 'd'), (3, 'c'), (4, 'd')])\n"
     ]
    }
   ],
   "source": [
    "a={1:'a',2:'b',3:'c',4:'d',2:'e',2:'c',2:'d'}\n",
    "print(a)\n",
    "print(a.keys())\n",
    "print(a.values())\n",
    "print(a.items())"
   ]
  },
  {
   "cell_type": "markdown",
   "id": "e9a09a88",
   "metadata": {},
   "source": [
    "# We can change the value"
   ]
  },
  {
   "cell_type": "code",
   "execution_count": 7,
   "id": "d37e9f0b",
   "metadata": {},
   "outputs": [
    {
     "name": "stdout",
     "output_type": "stream",
     "text": [
      "{1: 'a', 2: 'd', 3: 'c', 4: 'd'}\n",
      "{1: 'a', 2: 'b', 3: 'c', 4: 'd'}\n"
     ]
    }
   ],
   "source": [
    "a={1:'a',2:'b',3:'c',4:'d',2:'e',2:'c',2:'d'}\n",
    "b=a\n",
    "print(b)\n",
    "b[2]='b'\n",
    "print(b)"
   ]
  },
  {
   "cell_type": "code",
   "execution_count": 13,
   "id": "4cd3efbb",
   "metadata": {},
   "outputs": [
    {
     "name": "stdout",
     "output_type": "stream",
     "text": [
      "dict_keys([0, 1, 2, 7])\n"
     ]
    }
   ],
   "source": [
    "print(D.keys())\n"
   ]
  },
  {
   "cell_type": "code",
   "execution_count": 46,
   "id": "568e5480",
   "metadata": {},
   "outputs": [
    {
     "name": "stdout",
     "output_type": "stream",
     "text": [
      "dict_items([])\n"
     ]
    }
   ],
   "source": [
    "empty_dict={}\n",
    "print(empty_dict.items())"
   ]
  },
  {
   "cell_type": "code",
   "execution_count": 16,
   "id": "14db7d88",
   "metadata": {},
   "outputs": [
    {
     "name": "stdout",
     "output_type": "stream",
     "text": [
      "dict_values(['a', 'quick', 'brown', 'fox', 'jumps', 'over', 'a', 'lazy', 'dog'])\n"
     ]
    }
   ],
   "source": [
    "# Accessing values\n",
    "print(di.values())"
   ]
  },
  {
   "cell_type": "code",
   "execution_count": 17,
   "id": "9a3246ec",
   "metadata": {},
   "outputs": [
    {
     "name": "stdout",
     "output_type": "stream",
     "text": [
      "dict_values([1, 2, 2, 0])\n"
     ]
    }
   ],
   "source": [
    "print(D.values())"
   ]
  },
  {
   "cell_type": "code",
   "execution_count": 22,
   "id": "c00c4de4",
   "metadata": {},
   "outputs": [
    {
     "name": "stdout",
     "output_type": "stream",
     "text": [
      "dict_values([])\n"
     ]
    }
   ],
   "source": [
    "empty_dict={}\n",
    "print(empty_dict.values())"
   ]
  },
  {
   "cell_type": "code",
   "execution_count": 19,
   "id": "90f923c6",
   "metadata": {},
   "outputs": [
    {
     "name": "stdout",
     "output_type": "stream",
     "text": [
      "dict_items([(0, 'a'), (1, 'quick'), (2, 'brown'), (3, 'fox'), (4, 'jumps'), (5, 'over'), (6, 'a'), (7, 'lazy'), (8, 'dog')])\n"
     ]
    }
   ],
   "source": [
    "# Accessing both key and values\n",
    "print(di.items())"
   ]
  },
  {
   "cell_type": "code",
   "execution_count": 20,
   "id": "7e42d9cc",
   "metadata": {},
   "outputs": [
    {
     "name": "stdout",
     "output_type": "stream",
     "text": [
      "dict_items([(0, 1), (1, 2), (2, 2), (7, 0)])\n"
     ]
    }
   ],
   "source": [
    "print(D.items())"
   ]
  },
  {
   "cell_type": "code",
   "execution_count": 21,
   "id": "7349451a",
   "metadata": {},
   "outputs": [
    {
     "name": "stdout",
     "output_type": "stream",
     "text": [
      "dict_items([])\n"
     ]
    }
   ],
   "source": [
    "empty_dict={}\n",
    "print(empty_dict.items())"
   ]
  },
  {
   "cell_type": "code",
   "execution_count": 22,
   "id": "b8bac83a",
   "metadata": {},
   "outputs": [],
   "source": [
    "# clear\n",
    "# di.clear()"
   ]
  },
  {
   "cell_type": "code",
   "execution_count": 24,
   "id": "124d083f",
   "metadata": {},
   "outputs": [
    {
     "name": "stdout",
     "output_type": "stream",
     "text": [
      "{}\n",
      "{}\n"
     ]
    }
   ],
   "source": [
    "# Shallow copy\n",
    "a={1:'a',2:'b',3:'c',4:'d',2:'e',2:'c',2:'d'}\n",
    "b=a\n",
    "b.clear()\n",
    "print(b)\n",
    "print(a)"
   ]
  },
  {
   "cell_type": "code",
   "execution_count": 26,
   "id": "acccbed7",
   "metadata": {},
   "outputs": [
    {
     "name": "stdout",
     "output_type": "stream",
     "text": [
      "{}\n",
      "{1: 'a', 2: 'd', 3: 'c', 4: 'd'}\n"
     ]
    }
   ],
   "source": [
    "# Deep copy \n",
    "a={1:'a',2:'b',3:'c',4:'d',2:'e',2:'c',2:'d'}\n",
    "b=a.copy()\n",
    "b.clear()\n",
    "print(b)\n",
    "print(a)"
   ]
  },
  {
   "cell_type": "code",
   "execution_count": 28,
   "id": "557ef652",
   "metadata": {},
   "outputs": [
    {
     "name": "stdout",
     "output_type": "stream",
     "text": [
      "d\n",
      "{1: 'a', 3: 'c', 4: 'd'}\n"
     ]
    }
   ],
   "source": [
    "a={1:'a',2:'b',3:'c',4:'d',2:'e',2:'c',2:'d'}\n",
    "print(a.pop(2))\n",
    "print(a)"
   ]
  },
  {
   "cell_type": "code",
   "execution_count": 29,
   "id": "23796d61",
   "metadata": {},
   "outputs": [
    {
     "ename": "AttributeError",
     "evalue": "'dict' object has no attribute 'remove'",
     "output_type": "error",
     "traceback": [
      "\u001b[1;31m---------------------------------------------------------------------------\u001b[0m",
      "\u001b[1;31mAttributeError\u001b[0m                            Traceback (most recent call last)",
      "Input \u001b[1;32mIn [29]\u001b[0m, in \u001b[0;36m<cell line: 2>\u001b[1;34m()\u001b[0m\n\u001b[0;32m      1\u001b[0m a\u001b[38;5;241m=\u001b[39m{\u001b[38;5;241m1\u001b[39m:\u001b[38;5;124m'\u001b[39m\u001b[38;5;124ma\u001b[39m\u001b[38;5;124m'\u001b[39m,\u001b[38;5;241m2\u001b[39m:\u001b[38;5;124m'\u001b[39m\u001b[38;5;124mb\u001b[39m\u001b[38;5;124m'\u001b[39m,\u001b[38;5;241m3\u001b[39m:\u001b[38;5;124m'\u001b[39m\u001b[38;5;124mc\u001b[39m\u001b[38;5;124m'\u001b[39m,\u001b[38;5;241m4\u001b[39m:\u001b[38;5;124m'\u001b[39m\u001b[38;5;124md\u001b[39m\u001b[38;5;124m'\u001b[39m,\u001b[38;5;241m2\u001b[39m:\u001b[38;5;124m'\u001b[39m\u001b[38;5;124me\u001b[39m\u001b[38;5;124m'\u001b[39m,\u001b[38;5;241m2\u001b[39m:\u001b[38;5;124m'\u001b[39m\u001b[38;5;124mc\u001b[39m\u001b[38;5;124m'\u001b[39m,\u001b[38;5;241m2\u001b[39m:\u001b[38;5;124m'\u001b[39m\u001b[38;5;124md\u001b[39m\u001b[38;5;124m'\u001b[39m}\n\u001b[1;32m----> 2\u001b[0m \u001b[43ma\u001b[49m\u001b[38;5;241;43m.\u001b[39;49m\u001b[43mremove\u001b[49m(\u001b[38;5;241m1\u001b[39m)\n\u001b[0;32m      3\u001b[0m \u001b[38;5;28mprint\u001b[39m(a)\n",
      "\u001b[1;31mAttributeError\u001b[0m: 'dict' object has no attribute 'remove'"
     ]
    }
   ],
   "source": [
    "# Remove is not a shorcut key of dictionary\n",
    "a={1:'a',2:'b',3:'c',4:'d',2:'e',2:'c',2:'d'}\n",
    "a.remove(1)\n",
    "print(a)"
   ]
  },
  {
   "cell_type": "code",
   "execution_count": 40,
   "id": "6b9d6d32",
   "metadata": {},
   "outputs": [
    {
     "name": "stdout",
     "output_type": "stream",
     "text": [
      "<class 'dict'> {0: 'a', 1: 'b', 2: 'c'}\n"
     ]
    }
   ],
   "source": [
    "f={0:'a',1:'b',2:'c'}\n",
    "print(type(f),f)"
   ]
  },
  {
   "cell_type": "code",
   "execution_count": 31,
   "id": "32d1466b",
   "metadata": {},
   "outputs": [
    {
     "name": "stdout",
     "output_type": "stream",
     "text": [
      "{0: 'a', 1: 'b', 2: 'c'}\n",
      "{0: 'a', 1: 'b', 2: 'c'}\n"
     ]
    }
   ],
   "source": [
    "# Deep copy \n",
    "g=f.copy()\n",
    "print(g)\n",
    "print(f)"
   ]
  },
  {
   "cell_type": "code",
   "execution_count": 32,
   "id": "e3d15dee",
   "metadata": {},
   "outputs": [
    {
     "name": "stdout",
     "output_type": "stream",
     "text": [
      "{}\n"
     ]
    }
   ],
   "source": [
    "g.clear()\n",
    "print(g)"
   ]
  },
  {
   "cell_type": "code",
   "execution_count": 33,
   "id": "4703f6fc",
   "metadata": {},
   "outputs": [
    {
     "name": "stdout",
     "output_type": "stream",
     "text": [
      "{0: 'a', 1: 'b', 2: 'c'}\n"
     ]
    }
   ],
   "source": [
    "print(f)"
   ]
  },
  {
   "cell_type": "code",
   "execution_count": 1,
   "id": "08ce62e4",
   "metadata": {},
   "outputs": [
    {
     "name": "stdout",
     "output_type": "stream",
     "text": [
      "{1: 'a', 2: 'd', 3: 'c', 4: 'd', 5: 'z'}\n"
     ]
    }
   ],
   "source": [
    "# Append not a keyword of dictionry\n",
    "a={1:'a',2:'b',3:'c',4:'d',2:'e',2:'c',2:'d'}\n",
    "a.update({5:'z'})\n",
    "print(a)"
   ]
  },
  {
   "cell_type": "code",
   "execution_count": 46,
   "id": "9b9e8a28",
   "metadata": {},
   "outputs": [
    {
     "name": "stdout",
     "output_type": "stream",
     "text": [
      "{1: 'a', 2: 'd', 3: 'c', 4: 'd', 6: 'a'}\n"
     ]
    }
   ],
   "source": [
    "a={1:'a',2:'b',3:'c',4:'d',2:'e',2:'c',2:'d'}\n",
    "a.update({6:'a'})\n",
    "print(a)"
   ]
  },
  {
   "cell_type": "code",
   "execution_count": 10,
   "id": "3da299b2",
   "metadata": {},
   "outputs": [
    {
     "ename": "NameError",
     "evalue": "name 'f' is not defined",
     "output_type": "error",
     "traceback": [
      "\u001b[1;31m---------------------------------------------------------------------------\u001b[0m",
      "\u001b[1;31mNameError\u001b[0m                                 Traceback (most recent call last)",
      "Input \u001b[1;32mIn [10]\u001b[0m, in \u001b[0;36m<cell line: 1>\u001b[1;34m()\u001b[0m\n\u001b[1;32m----> 1\u001b[0m \u001b[38;5;28;01mdel\u001b[39;00m f\n",
      "\u001b[1;31mNameError\u001b[0m: name 'f' is not defined"
     ]
    }
   ],
   "source": [
    "del f"
   ]
  },
  {
   "cell_type": "code",
   "execution_count": 42,
   "id": "873bc303",
   "metadata": {},
   "outputs": [
    {
     "ename": "NameError",
     "evalue": "name 'f' is not defined",
     "output_type": "error",
     "traceback": [
      "\u001b[1;31m---------------------------------------------------------------------------\u001b[0m",
      "\u001b[1;31mNameError\u001b[0m                                 Traceback (most recent call last)",
      "\u001b[1;32m<ipython-input-42-fc0364975534>\u001b[0m in \u001b[0;36m<module>\u001b[1;34m\u001b[0m\n\u001b[1;32m----> 1\u001b[1;33m \u001b[0mprint\u001b[0m\u001b[1;33m(\u001b[0m\u001b[0mf\u001b[0m\u001b[1;33m)\u001b[0m\u001b[1;33m\u001b[0m\u001b[1;33m\u001b[0m\u001b[0m\n\u001b[0m",
      "\u001b[1;31mNameError\u001b[0m: name 'f' is not defined"
     ]
    }
   ],
   "source": [
    "print(f)"
   ]
  },
  {
   "cell_type": "code",
   "execution_count": 43,
   "id": "40151d5b",
   "metadata": {},
   "outputs": [
    {
     "name": "stdout",
     "output_type": "stream",
     "text": [
      "{0: 'a', 1: 'quick', 2: 'brown', 3: 'fox', 4: 'jumps', 5: 'over', 6: 'a', 7: 'lazy', 8: 'dog'}\n"
     ]
    }
   ],
   "source": [
    "print(di)"
   ]
  },
  {
   "cell_type": "code",
   "execution_count": 44,
   "id": "aee3ad23",
   "metadata": {},
   "outputs": [
    {
     "name": "stdout",
     "output_type": "stream",
     "text": [
      "{0: 'a', 1: 'quick', 2: 'brown', 3: 'fox', 4: 'jumps', 6: 'a', 7: 'lazy', 8: 'dog'}\n"
     ]
    }
   ],
   "source": [
    "del di[5]\n",
    "print(di)"
   ]
  },
  {
   "cell_type": "code",
   "execution_count": 14,
   "id": "e12f90d5",
   "metadata": {},
   "outputs": [],
   "source": [
    "# delete\n",
    "# del di"
   ]
  },
  {
   "cell_type": "code",
   "execution_count": 18,
   "id": "dda85f16",
   "metadata": {},
   "outputs": [
    {
     "name": "stdout",
     "output_type": "stream",
     "text": [
      "{0: 'a', 1: 'quick', 2: 'brown', 3: 'fox', 4: 'jumps', 5: 'over', 6: 'a', 7: 'lazy', 8: 'dog'}\n"
     ]
    }
   ],
   "source": [
    "print(di)"
   ]
  },
  {
   "cell_type": "code",
   "execution_count": 35,
   "id": "903257ad",
   "metadata": {},
   "outputs": [
    {
     "name": "stdout",
     "output_type": "stream",
     "text": [
      "[0, 1, 2, 3, 4, 5, 6, 7, 8]\n",
      "[8, 7, 6, 5, 4, 3, 2, 1, 0]\n"
     ]
    }
   ],
   "source": [
    "#sorted\n",
    "print(sorted(di.keys()))\n",
    "\n",
    "        # OR\n",
    "print(sorted(di.keys(),reverse=True))"
   ]
  },
  {
   "cell_type": "code",
   "execution_count": 51,
   "id": "e4602ce8",
   "metadata": {},
   "outputs": [
    {
     "name": "stdout",
     "output_type": "stream",
     "text": [
      "122\n",
      "65\n"
     ]
    }
   ],
   "source": [
    "print(ord('z'))\n",
    "print(ord('A'))"
   ]
  },
  {
   "cell_type": "code",
   "execution_count": 54,
   "id": "741e76f0",
   "metadata": {},
   "outputs": [
    {
     "name": "stdout",
     "output_type": "stream",
     "text": [
      "['a', 'b', 'c', 'd', 'e', 'f', 'g', 'h', 'i', 'j', 'k', 'l', 'm', 'n', 'o', 'p', 'q', 'r', 's', 't', 'u', 'v', 'w', 'x', 'y', 'z']\n"
     ]
    }
   ],
   "source": [
    "L=[]\n",
    "for i in range(97,123):\n",
    "    L.append(chr(i))\n",
    "    \n",
    "print(L)"
   ]
  },
  {
   "cell_type": "code",
   "execution_count": 37,
   "id": "e45be1bc",
   "metadata": {},
   "outputs": [
    {
     "name": "stdout",
     "output_type": "stream",
     "text": [
      "['a', 'b', 'c', 'd', 'e', 'f', 'g', 'h', 'i', 'j', 'k', 'l', 'm', 'n', 'o', 'p', 'q', 'r', 's', 't', 'u', 'v', 'w', 'x', 'y', 'z']\n"
     ]
    }
   ],
   "source": [
    "a=[]\n",
    "for i in range(97,123):\n",
    "    a=a+[chr(i)]\n",
    "print(a)"
   ]
  },
  {
   "cell_type": "code",
   "execution_count": 38,
   "id": "639e4d6a",
   "metadata": {},
   "outputs": [
    {
     "name": "stdout",
     "output_type": "stream",
     "text": [
      "abcdefghijklmnopqrstuvwxyz\n"
     ]
    }
   ],
   "source": [
    "a=''\n",
    "for i in range(97,123):\n",
    "    a=a+chr(i)\n",
    "print(a)"
   ]
  },
  {
   "cell_type": "code",
   "execution_count": 47,
   "id": "59fe7715",
   "metadata": {},
   "outputs": [
    {
     "name": "stdout",
     "output_type": "stream",
     "text": [
      "['A', 'a']\n"
     ]
    }
   ],
   "source": [
    "k={'a':1,'A':2}\n",
    "print(sorted(k.keys()))"
   ]
  },
  {
   "cell_type": "code",
   "execution_count": 32,
   "id": "93edd22f",
   "metadata": {},
   "outputs": [
    {
     "name": "stdout",
     "output_type": "stream",
     "text": [
      "['a', 'brown', 'dog', 'fox', 'jumps', 'lazy', 'over', 'quick']\n"
     ]
    }
   ],
   "source": [
    "print(sorted(di.values()))"
   ]
  },
  {
   "cell_type": "code",
   "execution_count": 33,
   "id": "37fc62ce",
   "metadata": {},
   "outputs": [
    {
     "name": "stdout",
     "output_type": "stream",
     "text": [
      "[(0, 'a'), (1, 'quick'), (2, 'brown'), (3, 'fox'), (4, 'jumps'), (5, 'over'), (7, 'lazy'), (8, 'dog')]\n"
     ]
    }
   ],
   "source": [
    "print(sorted(di.items()))"
   ]
  },
  {
   "cell_type": "code",
   "execution_count": 39,
   "id": "5c9482d7",
   "metadata": {},
   "outputs": [
    {
     "name": "stdout",
     "output_type": "stream",
     "text": [
      "[4, 3, 2, 1]\n"
     ]
    }
   ],
   "source": [
    "a={1:'a',2:'b',3:'c',4:'d',2:'e',2:'c',2:'d'}\n",
    "print(sorted(a.keys(),reverse=True))"
   ]
  },
  {
   "cell_type": "code",
   "execution_count": 40,
   "id": "6270c2e5",
   "metadata": {},
   "outputs": [
    {
     "name": "stdout",
     "output_type": "stream",
     "text": [
      "['d', 'd', 'c', 'a']\n"
     ]
    }
   ],
   "source": [
    "a={1:'a',2:'b',3:'c',4:'d',2:'e',2:'c',2:'d'}\n",
    "print(sorted(a.values(),reverse=True))"
   ]
  },
  {
   "cell_type": "code",
   "execution_count": 41,
   "id": "a1cbd870",
   "metadata": {},
   "outputs": [
    {
     "name": "stdout",
     "output_type": "stream",
     "text": [
      "[(4, 'd'), (3, 'c'), (2, 'd'), (1, 'a')]\n"
     ]
    }
   ],
   "source": [
    "a={1:'a',2:'b',3:'c',4:'d',2:'e',2:'c',2:'d'}\n",
    "print(sorted(a.items(),reverse=True))"
   ]
  },
  {
   "cell_type": "code",
   "execution_count": 56,
   "id": "f9b1035c",
   "metadata": {},
   "outputs": [],
   "source": [
    "d1={'One':1,'Two':2,'Three':3,'Four':4,'Five':5}"
   ]
  },
  {
   "cell_type": "code",
   "execution_count": 35,
   "id": "c3653f84",
   "metadata": {},
   "outputs": [
    {
     "name": "stdout",
     "output_type": "stream",
     "text": [
      "{'O': 1, 'T': 3, 'F': 5}\n"
     ]
    }
   ],
   "source": [
    "d2={'O':1,'T':2,'T':3,'F':4,'F':5}\n",
    "print(d2)"
   ]
  },
  {
   "cell_type": "code",
   "execution_count": 36,
   "id": "be1ef343",
   "metadata": {},
   "outputs": [
    {
     "name": "stdout",
     "output_type": "stream",
     "text": [
      "['Five', 'Four', 'One', 'Three', 'Two']\n"
     ]
    }
   ],
   "source": [
    "print(sorted(d1))"
   ]
  },
  {
   "cell_type": "code",
   "execution_count": 37,
   "id": "4a1320df",
   "metadata": {},
   "outputs": [
    {
     "name": "stdout",
     "output_type": "stream",
     "text": [
      "['F', 'O', 'T']\n"
     ]
    }
   ],
   "source": [
    "print(sorted(d2))"
   ]
  },
  {
   "cell_type": "code",
   "execution_count": 57,
   "id": "9ce8ee26",
   "metadata": {},
   "outputs": [
    {
     "name": "stdout",
     "output_type": "stream",
     "text": [
      "{'One': 1, 'Two': 2, 'Three': 3, 'Four': 4, 'Five': 5}\n"
     ]
    }
   ],
   "source": [
    "print(d1)"
   ]
  },
  {
   "cell_type": "code",
   "execution_count": 59,
   "id": "a3661073",
   "metadata": {},
   "outputs": [
    {
     "name": "stdout",
     "output_type": "stream",
     "text": [
      "{'One': 1, 'Two': 2, 'Three': 3, 'Four': 4, 'Five': 6, 123456765432: 6}\n"
     ]
    }
   ],
   "source": [
    "# update\n",
    "d1.update({'Five':6})\n",
    "print(d1)"
   ]
  },
  {
   "cell_type": "code",
   "execution_count": 40,
   "id": "957ee47a",
   "metadata": {},
   "outputs": [
    {
     "name": "stdout",
     "output_type": "stream",
     "text": [
      "{'One': 1, 'Two': 2, 'Three': 3, 'Four': 4, 'Five': 6, 'example': 100}\n"
     ]
    }
   ],
   "source": [
    "d1.update({'example':100})\n",
    "print(d1)"
   ]
  },
  {
   "cell_type": "code",
   "execution_count": 41,
   "id": "39d74307",
   "metadata": {},
   "outputs": [
    {
     "name": "stdout",
     "output_type": "stream",
     "text": [
      "{0: 'a', 1: 'quick', 2: 'brown', 3: 'fox', 4: 'jumps', 5: 'over', 7: 'lazy', 8: 'dog'}\n"
     ]
    }
   ],
   "source": [
    "print(di)"
   ]
  },
  {
   "cell_type": "code",
   "execution_count": 72,
   "id": "71a9a33b",
   "metadata": {},
   "outputs": [
    {
     "name": "stdout",
     "output_type": "stream",
     "text": [
      "a\n",
      "{1: 'quick', 2: 'brown', 4: 'jumps', 6: 'a', 7: 'lazy', 8: 'dog'}\n"
     ]
    }
   ],
   "source": [
    "# pop\n",
    "print(di.pop(0))\n",
    "print(di)"
   ]
  },
  {
   "cell_type": "code",
   "execution_count": 49,
   "id": "bed94090",
   "metadata": {},
   "outputs": [
    {
     "name": "stdout",
     "output_type": "stream",
     "text": [
      "(8, 'dog')\n"
     ]
    }
   ],
   "source": [
    "# pop item\n",
    "print(di.popitem())"
   ]
  },
  {
   "cell_type": "code",
   "execution_count": 50,
   "id": "02e4260d",
   "metadata": {},
   "outputs": [
    {
     "name": "stdout",
     "output_type": "stream",
     "text": [
      "[4, 3, 2, 1]\n"
     ]
    }
   ],
   "source": [
    "a={1:'a',2:'b',3:'c',4:'d',2:'e',2:'c',2:'d'}\n",
    "print(sorted(a.keys(),reverse=True))"
   ]
  },
  {
   "cell_type": "code",
   "execution_count": 75,
   "id": "56179d14",
   "metadata": {},
   "outputs": [
    {
     "name": "stdout",
     "output_type": "stream",
     "text": [
      "{'One': 1, 'Two': 2, 'Three': 3, 'Four': 4, 'Five': 6, 123456765432: 6}\n"
     ]
    }
   ],
   "source": [
    "print(d1)"
   ]
  },
  {
   "cell_type": "code",
   "execution_count": 76,
   "id": "8671f767",
   "metadata": {},
   "outputs": [
    {
     "name": "stdout",
     "output_type": "stream",
     "text": [
      "(123456765432, 6)\n"
     ]
    }
   ],
   "source": [
    "print(d1.popitem())"
   ]
  },
  {
   "cell_type": "code",
   "execution_count": 77,
   "id": "0ae31797",
   "metadata": {},
   "outputs": [
    {
     "name": "stdout",
     "output_type": "stream",
     "text": [
      "{'One': 1, 'Two': 2, 'Three': 3, 'Four': 4, 'Five': 6}\n"
     ]
    }
   ],
   "source": [
    "print(d1)"
   ]
  },
  {
   "cell_type": "markdown",
   "id": "dd900b78",
   "metadata": {},
   "source": [
    "# Fromkeys"
   ]
  },
  {
   "cell_type": "code",
   "execution_count": 2,
   "id": "0cded9b4",
   "metadata": {},
   "outputs": [
    {
     "name": "stdout",
     "output_type": "stream",
     "text": [
      "{1: ['a', 'o', 'i', 'e', 'u'], 2: ['a', 'o', 'i', 'e', 'u'], 3: ['a', 'o', 'i', 'e', 'u'], 4: ['a', 'o', 'i', 'e', 'u'], 5: ['a', 'o', 'i', 'e', 'u']}\n"
     ]
    }
   ],
   "source": [
    "# from keys\n",
    "li=['a','o','i','e','u']\n",
    "l1=[1,2,3,4,5]\n",
    "new_dict=dict.fromkeys(l1,li)\n",
    "print(new_dict)"
   ]
  },
  {
   "cell_type": "code",
   "execution_count": 54,
   "id": "4dd93f82",
   "metadata": {},
   "outputs": [
    {
     "name": "stdout",
     "output_type": "stream",
     "text": [
      "{'a': [1, 2, 3, 4, 5, 6, 7, 8], 'b': [1, 2, 3, 4, 5, 6, 7, 8], 'c': [1, 2, 3, 4, 5, 6, 7, 8], 'd': [1, 2, 3, 4, 5, 6, 7, 8]}\n"
     ]
    }
   ],
   "source": [
    "a=['a','b','c','d']\n",
    "b=[1,2,3,4,5,6,7,8]\n",
    "x=dict.fromkeys(a,b)\n",
    "print(x)"
   ]
  },
  {
   "cell_type": "code",
   "execution_count": 1,
   "id": "16eef763",
   "metadata": {},
   "outputs": [
    {
     "name": "stdout",
     "output_type": "stream",
     "text": [
      "{1: ['One', 'Two', 'Four', 'Five'], 2: ['One', 'Two', 'Four', 'Five'], 4: ['One', 'Two', 'Four', 'Five'], 5: ['One', 'Two', 'Four', 'Five']}\n"
     ]
    }
   ],
   "source": [
    "a=[1,2,4,5]\n",
    "b=[\"One\",\"Two\",\"Four\",\"Five\"]\n",
    "print(dict.fromkeys(a,b))"
   ]
  },
  {
   "cell_type": "code",
   "execution_count": 2,
   "id": "d1e6e4fd",
   "metadata": {},
   "outputs": [
    {
     "name": "stdout",
     "output_type": "stream",
     "text": [
      "{'Tushar': ['Tushar', 'is', 'a', 'very', 'good', 'boy'], 'is': ['Tushar', 'is', 'a', 'very', 'good', 'boy'], 'a': ['Tushar', 'is', 'a', 'very', 'good', 'boy'], 'very': ['Tushar', 'is', 'a', 'very', 'good', 'boy'], 'good': ['Tushar', 'is', 'a', 'very', 'good', 'boy'], 'boy': ['Tushar', 'is', 'a', 'very', 'good', 'boy']}\n"
     ]
    }
   ],
   "source": [
    "a=[\"Tushar\",\"is\",\"a\",\"very\",\"good\",\"boy\"]\n",
    "b=[\"Tushar\",\"is\",\"a\",\"very\",\"good\",\"boy\"]\n",
    "print(dict.fromkeys(a,b))"
   ]
  },
  {
   "cell_type": "code",
   "execution_count": 53,
   "id": "adfb1c47",
   "metadata": {},
   "outputs": [
    {
     "name": "stdout",
     "output_type": "stream",
     "text": [
      "{0: 'a', 1: 'quick', 2: 'brown', 3: 'fox', 4: 'jumps', 5: 'over', 6: 'a', 7: 'lazy', 8: 'dog'}\n"
     ]
    }
   ],
   "source": [
    "print(di)"
   ]
  },
  {
   "cell_type": "code",
   "execution_count": 54,
   "id": "672213f1",
   "metadata": {},
   "outputs": [
    {
     "name": "stdout",
     "output_type": "stream",
     "text": [
      "8\n",
      "quick\n"
     ]
    }
   ],
   "source": [
    "#max\n",
    "print(max(di.keys()))\n",
    "print(max(di.values()))"
   ]
  },
  {
   "cell_type": "code",
   "execution_count": 55,
   "id": "7944f668",
   "metadata": {},
   "outputs": [
    {
     "name": "stdout",
     "output_type": "stream",
     "text": [
      "0\n",
      "a\n"
     ]
    }
   ],
   "source": [
    "# min\n",
    "print(min(di.keys()))\n",
    "print(min(di.values()))"
   ]
  },
  {
   "cell_type": "code",
   "execution_count": 7,
   "id": "6fdee3c0",
   "metadata": {},
   "outputs": [
    {
     "name": "stdout",
     "output_type": "stream",
     "text": [
      "{0: 'a', 1: 'quick', 2: 'brown', 3: 'fox', 4: 'jumps', 5: 'over', 6: 'a', 7: 'lazy', 8: 'dog'}\n"
     ]
    }
   ],
   "source": [
    "print(di)"
   ]
  },
  {
   "cell_type": "code",
   "execution_count": 8,
   "id": "9e8d1dcf",
   "metadata": {},
   "outputs": [
    {
     "name": "stdout",
     "output_type": "stream",
     "text": [
      "{0: 'a', 1: 'quick', 2: 'brown', 3: 'fox', 4: 'jumps', 5: 'over', 6: 'a', 7: 'lazy', 8: 'Dog'}\n"
     ]
    }
   ],
   "source": [
    "# dictionary modification\n",
    "di[8]='Dog'\n",
    "print(di)"
   ]
  },
  {
   "cell_type": "code",
   "execution_count": 9,
   "id": "8f75aee1",
   "metadata": {},
   "outputs": [
    {
     "name": "stdout",
     "output_type": "stream",
     "text": [
      "{0: 'a', 1: 'quick', 2: 'brown', 3: 'fox', 4: 'house', 5: 'over', 6: 'a', 7: 'lazy', 8: 'Dog'}\n"
     ]
    }
   ],
   "source": [
    "di[4]='house'\n",
    "print(di)"
   ]
  },
  {
   "cell_type": "code",
   "execution_count": 10,
   "id": "85732a59",
   "metadata": {},
   "outputs": [
    {
     "name": "stdout",
     "output_type": "stream",
     "text": [
      "{1: 't', 2: 'd', 3: 'c', 4: 'd'}\n"
     ]
    }
   ],
   "source": [
    "a={1:'a',2:'b',3:'c',4:'d',2:'e',2:'c',2:'d'}\n",
    "a[1]='t'\n",
    "print(a)"
   ]
  },
  {
   "cell_type": "markdown",
   "id": "992f9c65",
   "metadata": {},
   "source": [
    "## Dictionary Creation"
   ]
  },
  {
   "cell_type": "code",
   "execution_count": 58,
   "id": "394ed2dc",
   "metadata": {},
   "outputs": [],
   "source": [
    "DICT={}"
   ]
  },
  {
   "cell_type": "code",
   "execution_count": 59,
   "id": "4a87c2aa",
   "metadata": {},
   "outputs": [
    {
     "name": "stdout",
     "output_type": "stream",
     "text": [
      "{}\n"
     ]
    }
   ],
   "source": [
    "print(DICT)"
   ]
  },
  {
   "cell_type": "code",
   "execution_count": 61,
   "id": "dccc0af3",
   "metadata": {},
   "outputs": [
    {
     "name": "stdout",
     "output_type": "stream",
     "text": [
      "{5: 'Welcome', 6: 'To', 7: 'Madrid', 'A': {1: 'Pyhton', 2: 'For', 3: 'AI'}, 'B': {1: 'Madrid', 2: 'Solutions'}, 'C': [100, 200, 300], 'D': (4, 44, 444, 2222)}\n"
     ]
    }
   ],
   "source": [
    "DICT[5]='Welcome'\n",
    "DICT[6]='To'\n",
    "DICT[7]=\"Madrid\"\n",
    "DICT['A']={1 : 'Pyhton', 2 : 'For', 3 : 'AI'}\n",
    "DICT['B']={1 : 'Madrid', 2 : 'Solutions'}\n",
    "DICT['C']=[100,200,300]\n",
    "DICT['D']=(4,44,444,4444)\n",
    "DICT['D']=(4,44,444,2222)\n",
    "print(DICT)"
   ]
  },
  {
   "cell_type": "code",
   "execution_count": 66,
   "id": "cd1dc6c3",
   "metadata": {},
   "outputs": [
    {
     "name": "stdout",
     "output_type": "stream",
     "text": [
      "9\n"
     ]
    }
   ],
   "source": [
    "D={}\n",
    "f=0\n",
    "x='deepanshu'\n",
    "for i in x:\n",
    "    f=f+1\n",
    "   \n",
    "print(f)"
   ]
  },
  {
   "cell_type": "code",
   "execution_count": 75,
   "id": "62d9c4b8",
   "metadata": {},
   "outputs": [
    {
     "data": {
      "text/plain": [
       "{1: 'A', 2: 'B', 3: 'C', 4: 'D'}"
      ]
     },
     "execution_count": 75,
     "metadata": {},
     "output_type": "execute_result"
    }
   ],
   "source": [
    "x=[1,2,3,4]\n",
    "y=['A', 'B', 'C']\n",
    "a={i:j for i,j in zip(x,y)}\n",
    "a"
   ]
  },
  {
   "cell_type": "code",
   "execution_count": 14,
   "id": "011eb9d5",
   "metadata": {},
   "outputs": [
    {
     "data": {
      "text/plain": [
       "{1: 'A', 2: 'B', 3: 'C'}"
      ]
     },
     "execution_count": 14,
     "metadata": {},
     "output_type": "execute_result"
    }
   ],
   "source": [
    "x=[1,2,3,4]\n",
    "y=['A', 'B', 'C']\n",
    "a={i:j for i,j in zip(x,y)}\n",
    "a"
   ]
  },
  {
   "cell_type": "code",
   "execution_count": 4,
   "id": "e32b76bc",
   "metadata": {},
   "outputs": [
    {
     "name": "stdout",
     "output_type": "stream",
     "text": [
      "{1: ['A', 'B', 'C'], 2: ['A', 'B', 'C'], 3: ['A', 'B', 'C'], 4: ['A', 'B', 'C']}\n"
     ]
    }
   ],
   "source": [
    "x=[1,2,3,4]\n",
    "y=['A', 'B', 'C']\n",
    "print(dict.fromkeys(x,y))"
   ]
  },
  {
   "cell_type": "code",
   "execution_count": 99,
   "id": "17fad770",
   "metadata": {},
   "outputs": [
    {
     "name": "stdout",
     "output_type": "stream",
     "text": [
      "{5: 'Welcome', 6: 'To', 7: 'Madrid', 'A': {1: 'Pyhton', 2: 'For', 3: 'AI'}, 'B': {1: 'Madrid', 2: 'Solutions'}, 'C': [100, 200, 300], 'D': (4, 44, 444, 4444)}\n",
      "7\n"
     ]
    }
   ],
   "source": [
    "print(DICT)\n",
    "print(len(DICT))"
   ]
  },
  {
   "cell_type": "markdown",
   "id": "6dc7ec7d",
   "metadata": {},
   "source": [
    "## Nested Dictionary"
   ]
  },
  {
   "cell_type": "code",
   "execution_count": 20,
   "id": "705b600e",
   "metadata": {},
   "outputs": [
    {
     "name": "stdout",
     "output_type": "stream",
     "text": [
      "{5: 'Welcome', 6: 'To', 7: 'Madrid', 'A': {1: 'Pyhton', 2: 'For', 3: 'AI'}, 'B': {1: 'Madrid', 2: 'Solutions'}, 'C': [100, 200, 300], 'D': (4, 44, 444, 4444)}\n"
     ]
    }
   ],
   "source": [
    "DICT = {5: 'Welcome', 6: 'To', 7: 'Madrid', 'A': {1: 'Pyhton', 2: 'For', 3: 'AI'}, 'B': {1: 'Madrid', 2: 'Solutions'}, 'C': [100, 200, 300], 'D': (4, 44, 444, 4444)}\n",
    "print(DICT)"
   ]
  },
  {
   "cell_type": "code",
   "execution_count": 55,
   "id": "a3a55cc3",
   "metadata": {},
   "outputs": [],
   "source": [
    "# print(len(DICT))\n",
    "# print(DICT.keys())\n",
    "# print(DICT.values())\n",
    "# print(DICT.items())\n",
    "# print(DICT)\n",
    "# DICT.clear()\n",
    "# print(DICT)\n",
    "# del DICT[6]\n",
    "# print(DICT)\n",
    "# DICT.update({'Nine':9})\n",
    "# print(DICT)\n",
    "# print(DICT.pop(7))\n",
    "# print(DICT)\n",
    "# DICT.popitem()\n",
    "# print(DICT)\n"
   ]
  },
  {
   "cell_type": "code",
   "execution_count": 21,
   "id": "bf2f0967",
   "metadata": {},
   "outputs": [
    {
     "name": "stdout",
     "output_type": "stream",
     "text": [
      "{5: 'Welcome', 6: 'To', 7: 'Madrid', 'A': {1: 'Pyhton', 2: 'For', 3: 'AI'}, 'B': {1: 'Madrid', 2: 'Solutions'}, 'C': [100, 200, 300], 'D': (4, 44, 444, 4444)}\n"
     ]
    }
   ],
   "source": [
    "print(DICT)"
   ]
  },
  {
   "cell_type": "code",
   "execution_count": 25,
   "id": "42569fbd",
   "metadata": {},
   "outputs": [
    {
     "name": "stdout",
     "output_type": "stream",
     "text": [
      "Solutions\n"
     ]
    }
   ],
   "source": [
    "# print(DICT[5])\n",
    "# print(DICT['A'])\n",
    "# print(DICT['D'])\n",
    "# print(DICT['A'][3])\n",
    "# print(DICT['B'][2])\n"
   ]
  },
  {
   "cell_type": "markdown",
   "id": "034da771",
   "metadata": {},
   "source": [
    "### Dictionary comprehension\n"
   ]
  },
  {
   "cell_type": "markdown",
   "id": "a7e30f23",
   "metadata": {},
   "source": [
    "Like List Comprehension, Python allows dictionary comprehensions. We can create dictionaries using simple expressions.\n",
    "A dictionary comprehension takes the form {key: value for (key, value) in iterable}"
   ]
  },
  {
   "cell_type": "code",
   "execution_count": 75,
   "id": "7b3b1223",
   "metadata": {},
   "outputs": [
    {
     "name": "stdout",
     "output_type": "stream",
     "text": [
      "{'a': 1, 'b': 2, 'c': 3, 'd': 4, 'e': 5}\n",
      "a b c d e\n",
      "1 2 3 4 5\n"
     ]
    },
    {
     "data": {
      "text/plain": [
       "{'D': 1, 'e': 2, 'p': 1, 'a': 1, 'n': 1}"
      ]
     },
     "execution_count": 75,
     "metadata": {},
     "output_type": "execute_result"
    }
   ],
   "source": [
    "keys = ['a','b','c','d','e']\n",
    "values = [1,2,3,4,5]\n",
    "\n",
    "# this line shows dict comprehension here\n",
    "myDict = { k:v for (k,v) in zip(keys, values)}\n",
    "\n",
    "print (myDict)\n",
    "# print(myDict['d'])\n",
    "print(*myDict.keys())\n",
    "\n",
    "print(*myDict.values())\n",
    "{'D':1,'e':2,'p':1,'a':1,'n':1}"
   ]
  },
  {
   "cell_type": "code",
   "execution_count": null,
   "id": "8db94472",
   "metadata": {},
   "outputs": [],
   "source": [
    "x='Deepanshu'"
   ]
  },
  {
   "cell_type": "code",
   "execution_count": 108,
   "id": "cad34632",
   "metadata": {},
   "outputs": [
    {
     "name": "stdout",
     "output_type": "stream",
     "text": [
      "{'b': 1, 'r': 2, 'o': 2, 'n': 1, 't': 1, 's': 2, 'a': 2, 'u': 1}\n"
     ]
    }
   ],
   "source": [
    "name=\"brontosauras\"\n",
    "q={}\n",
    "for i in name:\n",
    "    q[i]=name.count(i)\n",
    "print(q)"
   ]
  },
  {
   "cell_type": "code",
   "execution_count": 76,
   "id": "8e1128b5",
   "metadata": {},
   "outputs": [
    {
     "name": "stdout",
     "output_type": "stream",
     "text": [
      "{'T': 2, 'u': 1, 's': 1, 'h': 1, 'a': 1, 'r': 2, ' ': 1, 'o': 1, 'm': 1, 'e': 1}\n"
     ]
    }
   ],
   "source": [
    "a=\"Tushar Tomer\"\n",
    "b={}\n",
    "for i in a:\n",
    "    b[i]=a.count(i)\n",
    "print(b)"
   ]
  },
  {
   "cell_type": "code",
   "execution_count": 109,
   "id": "1f0cd65f",
   "metadata": {},
   "outputs": [
    {
     "name": "stdout",
     "output_type": "stream",
     "text": [
      "{'T': 1, 'u': 1, 's': 1, 'h': 1, 'a': 1, 'r': 1}\n"
     ]
    }
   ],
   "source": [
    "a='Tushar'\n",
    "b={}\n",
    "for i in a:\n",
    "    b[i]=a.count(i)\n",
    "print(b)"
   ]
  },
  {
   "cell_type": "code",
   "execution_count": null,
   "id": "f05ebc42",
   "metadata": {},
   "outputs": [],
   "source": [
    "{answer: for loop if conditon}"
   ]
  },
  {
   "cell_type": "code",
   "execution_count": 95,
   "id": "c4295ddd",
   "metadata": {},
   "outputs": [
    {
     "data": {
      "text/plain": [
       "'DEEPAMSUU'"
      ]
     },
     "execution_count": 95,
     "metadata": {},
     "output_type": "execute_result"
    }
   ],
   "source": [
    "name='deepamsuu'\n",
    "name.upper()"
   ]
  },
  {
   "cell_type": "code",
   "execution_count": 96,
   "id": "14f34e1d",
   "metadata": {},
   "outputs": [
    {
     "name": "stdout",
     "output_type": "stream",
     "text": [
      "deepamsuu\n"
     ]
    }
   ],
   "source": [
    "print(name)"
   ]
  },
  {
   "cell_type": "code",
   "execution_count": 82,
   "id": "8619fe21",
   "metadata": {},
   "outputs": [
    {
     "name": "stdout",
     "output_type": "stream",
     "text": [
      "{1: 1, 2: 4, 3: 9, 4: 16, 5: 25}\n"
     ]
    }
   ],
   "source": [
    "# Python code to demonstrate dictionary creation using list comprehension\n",
    "myDict = {x:x**2 for x in [1,2,3,4,5]}\n",
    "print (myDict)\n"
   ]
  },
  {
   "cell_type": "code",
   "execution_count": 111,
   "id": "73801c7f",
   "metadata": {},
   "outputs": [
    {
     "data": {
      "text/plain": [
       "{2: 4, 4: 16, 6: 36, 8: 64, 10: 100}"
      ]
     },
     "execution_count": 111,
     "metadata": {},
     "output_type": "execute_result"
    }
   ],
   "source": [
    "a={i:i**2 for i in range(1,11) if i%2==0}\n",
    "a"
   ]
  },
  {
   "cell_type": "code",
   "execution_count": 112,
   "id": "5a9ce67f",
   "metadata": {},
   "outputs": [
    {
     "data": {
      "text/plain": [
       "{'T': 'T', 'u': 'U', 's': 'S', 'h': 'H', 'a': 'A', 'r': 'R'}"
      ]
     },
     "execution_count": 112,
     "metadata": {},
     "output_type": "execute_result"
    }
   ],
   "source": [
    "a={i:i.upper() for i in 'Tushar'}\n",
    "a"
   ]
  },
  {
   "cell_type": "code",
   "execution_count": 98,
   "id": "0ef9b069",
   "metadata": {},
   "outputs": [
    {
     "name": "stdout",
     "output_type": "stream",
     "text": [
      "{'c': 'CCC', 'o': 'OOO', 'd': 'DDD', 'i': 'III', 'n': 'NNN', 'g': 'GGG'}\n"
     ]
    }
   ],
   "source": [
    "sDict = {x: (x*3).upper() for x in 'coding'}\n",
    "print (sDict)"
   ]
  },
  {
   "cell_type": "code",
   "execution_count": 118,
   "id": "80f6ce9f",
   "metadata": {},
   "outputs": [],
   "source": [
    "d={1: 1, 2: 4, 3: 9, 4: 16, 5: 25}"
   ]
  },
  {
   "cell_type": "code",
   "execution_count": 122,
   "id": "dbe877a3",
   "metadata": {},
   "outputs": [
    {
     "name": "stdout",
     "output_type": "stream",
     "text": [
      "(1, 1)\n",
      "(2, 4)\n",
      "(3, 9)\n",
      "(4, 16)\n",
      "(5, 25)\n"
     ]
    }
   ],
   "source": [
    "for i in d.items():\n",
    "    print(i)"
   ]
  },
  {
   "cell_type": "code",
   "execution_count": 101,
   "id": "d3cb5750",
   "metadata": {},
   "outputs": [
    {
     "name": "stdout",
     "output_type": "stream",
     "text": [
      "0\n",
      "Two\n",
      "3\n",
      "Four\n"
     ]
    }
   ],
   "source": [
    "for j in d.keys():\n",
    "    print(j)"
   ]
  },
  {
   "cell_type": "code",
   "execution_count": 102,
   "id": "660c38a9",
   "metadata": {},
   "outputs": [
    {
     "name": "stdout",
     "output_type": "stream",
     "text": [
      "One\n",
      "2\n",
      "Three\n",
      "4\n"
     ]
    }
   ],
   "source": [
    "for k in d.values():\n",
    "    print(k)"
   ]
  },
  {
   "cell_type": "code",
   "execution_count": 103,
   "id": "3d4b3e3d",
   "metadata": {},
   "outputs": [
    {
     "name": "stdout",
     "output_type": "stream",
     "text": [
      "(0, 'One')\n",
      "('Two', 2)\n",
      "(3, 'Three')\n",
      "('Four', 4)\n"
     ]
    }
   ],
   "source": [
    "for x in d.items():\n",
    "    print(x)"
   ]
  },
  {
   "cell_type": "code",
   "execution_count": 83,
   "id": "2706e32e",
   "metadata": {},
   "outputs": [
    {
     "name": "stdout",
     "output_type": "stream",
     "text": [
      "{'D': 1, 'e': 2, 'p': 1, 'a': 1, 'n': 1, 's': 1, 'h': 1, 'u': 1}\n"
     ]
    }
   ],
   "source": [
    "name='Deepanshu'\n",
    "a={}\n",
    "for i in name:\n",
    "    a[i]=name.count(i)\n",
    "print(a)"
   ]
  },
  {
   "cell_type": "code",
   "execution_count": 113,
   "id": "3824bebe",
   "metadata": {},
   "outputs": [
    {
     "name": "stdout",
     "output_type": "stream",
     "text": [
      "Help on class dict in module builtins:\n",
      "\n",
      "class dict(object)\n",
      " |  dict() -> new empty dictionary\n",
      " |  dict(mapping) -> new dictionary initialized from a mapping object's\n",
      " |      (key, value) pairs\n",
      " |  dict(iterable) -> new dictionary initialized as if via:\n",
      " |      d = {}\n",
      " |      for k, v in iterable:\n",
      " |          d[k] = v\n",
      " |  dict(**kwargs) -> new dictionary initialized with the name=value pairs\n",
      " |      in the keyword argument list.  For example:  dict(one=1, two=2)\n",
      " |  \n",
      " |  Built-in subclasses:\n",
      " |      StgDict\n",
      " |  \n",
      " |  Methods defined here:\n",
      " |  \n",
      " |  __contains__(self, key, /)\n",
      " |      True if the dictionary has the specified key, else False.\n",
      " |  \n",
      " |  __delitem__(self, key, /)\n",
      " |      Delete self[key].\n",
      " |  \n",
      " |  __eq__(self, value, /)\n",
      " |      Return self==value.\n",
      " |  \n",
      " |  __ge__(self, value, /)\n",
      " |      Return self>=value.\n",
      " |  \n",
      " |  __getattribute__(self, name, /)\n",
      " |      Return getattr(self, name).\n",
      " |  \n",
      " |  __getitem__(...)\n",
      " |      x.__getitem__(y) <==> x[y]\n",
      " |  \n",
      " |  __gt__(self, value, /)\n",
      " |      Return self>value.\n",
      " |  \n",
      " |  __init__(self, /, *args, **kwargs)\n",
      " |      Initialize self.  See help(type(self)) for accurate signature.\n",
      " |  \n",
      " |  __ior__(self, value, /)\n",
      " |      Return self|=value.\n",
      " |  \n",
      " |  __iter__(self, /)\n",
      " |      Implement iter(self).\n",
      " |  \n",
      " |  __le__(self, value, /)\n",
      " |      Return self<=value.\n",
      " |  \n",
      " |  __len__(self, /)\n",
      " |      Return len(self).\n",
      " |  \n",
      " |  __lt__(self, value, /)\n",
      " |      Return self<value.\n",
      " |  \n",
      " |  __ne__(self, value, /)\n",
      " |      Return self!=value.\n",
      " |  \n",
      " |  __or__(self, value, /)\n",
      " |      Return self|value.\n",
      " |  \n",
      " |  __repr__(self, /)\n",
      " |      Return repr(self).\n",
      " |  \n",
      " |  __reversed__(self, /)\n",
      " |      Return a reverse iterator over the dict keys.\n",
      " |  \n",
      " |  __ror__(self, value, /)\n",
      " |      Return value|self.\n",
      " |  \n",
      " |  __setitem__(self, key, value, /)\n",
      " |      Set self[key] to value.\n",
      " |  \n",
      " |  __sizeof__(...)\n",
      " |      D.__sizeof__() -> size of D in memory, in bytes\n",
      " |  \n",
      " |  clear(...)\n",
      " |      D.clear() -> None.  Remove all items from D.\n",
      " |  \n",
      " |  copy(...)\n",
      " |      D.copy() -> a shallow copy of D\n",
      " |  \n",
      " |  get(self, key, default=None, /)\n",
      " |      Return the value for key if key is in the dictionary, else default.\n",
      " |  \n",
      " |  items(...)\n",
      " |      D.items() -> a set-like object providing a view on D's items\n",
      " |  \n",
      " |  keys(...)\n",
      " |      D.keys() -> a set-like object providing a view on D's keys\n",
      " |  \n",
      " |  pop(...)\n",
      " |      D.pop(k[,d]) -> v, remove specified key and return the corresponding value.\n",
      " |      \n",
      " |      If key is not found, default is returned if given, otherwise KeyError is raised\n",
      " |  \n",
      " |  popitem(self, /)\n",
      " |      Remove and return a (key, value) pair as a 2-tuple.\n",
      " |      \n",
      " |      Pairs are returned in LIFO (last-in, first-out) order.\n",
      " |      Raises KeyError if the dict is empty.\n",
      " |  \n",
      " |  setdefault(self, key, default=None, /)\n",
      " |      Insert key with a value of default if key is not in the dictionary.\n",
      " |      \n",
      " |      Return the value for key if key is in the dictionary, else default.\n",
      " |  \n",
      " |  update(...)\n",
      " |      D.update([E, ]**F) -> None.  Update D from dict/iterable E and F.\n",
      " |      If E is present and has a .keys() method, then does:  for k in E: D[k] = E[k]\n",
      " |      If E is present and lacks a .keys() method, then does:  for k, v in E: D[k] = v\n",
      " |      In either case, this is followed by: for k in F:  D[k] = F[k]\n",
      " |  \n",
      " |  values(...)\n",
      " |      D.values() -> an object providing a view on D's values\n",
      " |  \n",
      " |  ----------------------------------------------------------------------\n",
      " |  Class methods defined here:\n",
      " |  \n",
      " |  __class_getitem__(...) from builtins.type\n",
      " |      See PEP 585\n",
      " |  \n",
      " |  fromkeys(iterable, value=None, /) from builtins.type\n",
      " |      Create a new dictionary with keys from iterable and values set to value.\n",
      " |  \n",
      " |  ----------------------------------------------------------------------\n",
      " |  Static methods defined here:\n",
      " |  \n",
      " |  __new__(*args, **kwargs) from builtins.type\n",
      " |      Create and return a new object.  See help(type) for accurate signature.\n",
      " |  \n",
      " |  ----------------------------------------------------------------------\n",
      " |  Data and other attributes defined here:\n",
      " |  \n",
      " |  __hash__ = None\n",
      "\n"
     ]
    }
   ],
   "source": [
    "help(dict)"
   ]
  },
  {
   "cell_type": "code",
   "execution_count": null,
   "id": "13ec5f2b",
   "metadata": {},
   "outputs": [],
   "source": [
    "a='deepanshu'\n",
    "print(min(a))"
   ]
  },
  {
   "cell_type": "code",
   "execution_count": 121,
   "id": "5b2dd181",
   "metadata": {},
   "outputs": [
    {
     "name": "stdout",
     "output_type": "stream",
     "text": [
      "{'b': 1, 'n': 1, 't': 1, 'u': 1} \n",
      "\n",
      "{'b': 1, 'r': 2, 'o': 2, 'n': 1, 't': 1, 's': 2, 'a': 2, 'u': 1}\n"
     ]
    }
   ],
   "source": [
    "d={}\n",
    "D={}\n",
    "x='brontosauras'\n",
    "for i in x:\n",
    "    D[i]=x.count(i)\n",
    "    if x.count(i)==1:\n",
    "        d[i]=x.count(i)\n",
    "print(d,'\\n')\n",
    "\n",
    "print(D)"
   ]
  },
  {
   "cell_type": "code",
   "execution_count": 122,
   "id": "85357777",
   "metadata": {},
   "outputs": [
    {
     "name": "stdout",
     "output_type": "stream",
     "text": [
      "{'b': 1, 'r': 2, 'o': 2, 'n': 1, 't': 1, 's': 2, 'a': 2, 'u': 1}\n"
     ]
    }
   ],
   "source": [
    "b='brontosauras'\n",
    "B={}\n",
    "for i in b:\n",
    "    if b.count(i)==min(b):\n",
    "        pass\n",
    "    else:\n",
    "        B[i]=b.count(i)\n",
    "        \n",
    "print(B)\n"
   ]
  },
  {
   "cell_type": "code",
   "execution_count": null,
   "id": "aeb281be",
   "metadata": {},
   "outputs": [],
   "source": [
    "b='brontosauras'\n",
    "for i in b:\n",
    "    print(min(b(i)))"
   ]
  },
  {
   "cell_type": "code",
   "execution_count": 136,
   "id": "a946a5a0",
   "metadata": {},
   "outputs": [
    {
     "name": "stdout",
     "output_type": "stream",
     "text": [
      "{'b': 1, 'r': 2, 'o': 2, 'n': 1, 't': 1, 's': 2, 'a': 2, 'u': 1}\n",
      "2\n",
      "0\n"
     ]
    }
   ],
   "source": [
    "d={}\n",
    "D={}\n",
    "x='brontosauras'\n",
    "for i in x:\n",
    "    D[i]=x.count(i)\n",
    "    \n",
    "\n",
    "\n",
    "print(D)\n",
    "m=0\n",
    "n=0\n",
    "p=0\n",
    "for j in D.values():\n",
    "#     print(j)\n",
    "    if p==0:\n",
    "        m=j\n",
    "        p+=1\n",
    "    if(m<j):\n",
    "        m=j\n",
    "    if(n>j):\n",
    "        n=j\n",
    "        \n",
    "print(m)\n",
    "print(n)\n",
    "# a=D.keys()\n",
    "# b=D.values()\n",
    "# print(a)\n",
    "# print(b)"
   ]
  }
 ],
 "metadata": {
  "kernelspec": {
   "display_name": "Python 3 (ipykernel)",
   "language": "python",
   "name": "python3"
  },
  "language_info": {
   "codemirror_mode": {
    "name": "ipython",
    "version": 3
   },
   "file_extension": ".py",
   "mimetype": "text/x-python",
   "name": "python",
   "nbconvert_exporter": "python",
   "pygments_lexer": "ipython3",
   "version": "3.9.12"
  }
 },
 "nbformat": 4,
 "nbformat_minor": 5
}
